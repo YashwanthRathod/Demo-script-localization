{
 "cells": [
  {
   "cell_type": "code",
   "execution_count": 2,
   "metadata": {},
   "outputs": [],
   "source": [
    "#Import the libraries\n",
    "import openai\n",
    "import os\n",
    "from dotenv import load_dotenv, find_dotenv\n",
    "from docx import Document\n",
    "import streamlit as st\n",
    "from PIL import Image\n",
    "\n",
    "# Load environment variables from API_key.env and retrieve the API key\n",
    "load_dotenv(find_dotenv())\n",
    "openai.api_key = os.getenv('OPENAI_API_KEY')\n"
   ]
  },
  {
   "cell_type": "code",
   "execution_count": 3,
   "metadata": {},
   "outputs": [],
   "source": [
    "# Function to get a chat completion response from the model\n",
    "def get_completion(prompt, model=\"gpt-3.5-turbo\", temperature=0):\n",
    "    messages = [{\"role\": \"user\", \"content\": prompt}]\n",
    "    response = openai.ChatCompletion.create(\n",
    "        model=model,\n",
    "        messages=messages,\n",
    "        temperature=temperature\n",
    "    )\n",
    "    return response.choices[0].message[\"content\"]\n"
   ]
  },
  {
   "cell_type": "code",
   "execution_count": 4,
   "metadata": {},
   "outputs": [],
   "source": [
    "# Function to translate text to the target language\n",
    "def translate_text(text, target_language):\n",
    "    response = openai.Completion.create(\n",
    "        engine=\"davinci\",  # Use the Davinci engine for translation\n",
    "        prompt=f\"Translate the following text to {target_language}:\\n{text}\",\n",
    "        max_tokens=100\n",
    "    )\n",
    "    translated_text = response.choices[0].text.strip()\n",
    "    return translated_text\n"
   ]
  },
  {
   "cell_type": "code",
   "execution_count": 5,
   "metadata": {},
   "outputs": [],
   "source": [
    "# Function to replace names based on the selected country\n",
    "def replace_names(text, country):\n",
    "    name_mapping = {\n",
    "        \"India\": {\"Alex\": \"Rahul\", \"Smith\": \"Sharma\"},\n",
    "        \"German\": {\"Alex\": \"Andre\", \"Smith\": \"Müller\"},\n",
    "        \"Spanish\": {\"Alex\": \"Javier\", \"Smith\": \"González\"},\n",
    "        # Add more country mappings as needed\n",
    "    }\n",
    "    for original_name, localized_name in name_mapping.get(country, {}).items():\n",
    "        text = text.replace(original_name, localized_name)\n",
    "    return text\n"
   ]
  },
  {
   "cell_type": "code",
   "execution_count": 6,
   "metadata": {},
   "outputs": [],
   "source": [
    "# Function to localize and translate the demo script\n",
    "def localize_and_translate_doc(doc, target_language, country):\n",
    "    doc = Document(doc)\n",
    "    script_text = \"\\n\".join([para.text for para in doc.paragraphs])\n",
    "    \n",
    "    localized_text = replace_names(script_text, country)\n",
    "    translated_text = translate_text(localized_text, target_language)\n",
    "    \n",
    "    localized_doc = Document()\n",
    "    for para in translated_text.split(\"\\n\"):\n",
    "        localized_doc.add_paragraph(para)\n",
    "    \n",
    "    localized_doc.save(\"localized_demo_script.docx\")\n"
   ]
  },
  {
   "cell_type": "code",
   "execution_count": 7,
   "metadata": {},
   "outputs": [
    {
     "name": "stderr",
     "output_type": "stream",
     "text": [
      "2023-08-21 18:46:24.524 \n",
      "  \u001b[33m\u001b[1mWarning:\u001b[0m to view this Streamlit app on a browser, run it with the following\n",
      "  command:\n",
      "\n",
      "    streamlit run c:\\Users\\91938\\anaconda3\\envs\\Vision\\lib\\site-packages\\ipykernel_launcher.py [ARGUMENTS]\n"
     ]
    }
   ],
   "source": [
    "# Streamlit UI\n",
    "st.title(\"Demo Script Localization\")\n",
    "uploaded_file = st.file_uploader(\"Upload a DOCX file\", type=[\"docx\"])\n",
    "\n",
    "if uploaded_file:\n",
    "    target_language = st.selectbox(\"Select Target Language\", [\"French\", \"German\", \"Spanish\"])  # Add more options\n",
    "    country = st.selectbox(\"Select Your Country\", [\"India\", \"Germany\", \"Spain\"])  # Add more options\n",
    "\n",
    "    if st.button(\"Localize and Download\"):\n",
    "        # Perform localization and save the localized document\n",
    "        localize_and_translate_doc(uploaded_file, target_language, country)\n",
    "        st.success(\"Document localized and downloaded!\")\n"
   ]
  }
 ],
 "metadata": {
  "kernelspec": {
   "display_name": "Vision",
   "language": "python",
   "name": "python3"
  },
  "language_info": {
   "codemirror_mode": {
    "name": "ipython",
    "version": 3
   },
   "file_extension": ".py",
   "mimetype": "text/x-python",
   "name": "python",
   "nbconvert_exporter": "python",
   "pygments_lexer": "ipython3",
   "version": "3.10.6"
  },
  "orig_nbformat": 4
 },
 "nbformat": 4,
 "nbformat_minor": 2
}
